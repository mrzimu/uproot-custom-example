{
 "cells": [
  {
   "cell_type": "code",
   "execution_count": 3,
   "id": "34c965d4",
   "metadata": {},
   "outputs": [],
   "source": [
    "import uproot as urt\n",
    "\n",
    "import my_reader"
   ]
  },
  {
   "cell_type": "code",
   "execution_count": null,
   "id": "e0c2fd70",
   "metadata": {},
   "outputs": [
    {
     "data": {
      "text/plain": [
       "array([  0,   1,   0,   0,   0,   0,   0,   0,   0,   0,   0,   0,   0,\n",
       "         0,  18,  52,  86, 120,   0,   0,   0,   0,   0,   0,   0,   0],\n",
       "      dtype=uint8)"
      ]
     },
     "execution_count": 5,
     "metadata": {},
     "output_type": "execute_result"
    }
   ],
   "source": [
    "tree = urt.open(\n",
    "    \"/home/mrli/work/workarea-uproot-custom/uproot-custom-example/tests/demo-data.root\"\n",
    ")[\"my_tree\"]\n",
    "\n",
    "tree[\"override_streamer/m_obj\"].array(interpretation=urt.interpretation.custom.AsBinary())[\n",
    "    0\n",
    "].to_numpy()"
   ]
  }
 ],
 "metadata": {
  "kernelspec": {
   "display_name": ".venv",
   "language": "python",
   "name": "python3"
  },
  "language_info": {
   "codemirror_mode": {
    "name": "ipython",
    "version": 3
   },
   "file_extension": ".py",
   "mimetype": "text/x-python",
   "name": "python",
   "nbconvert_exporter": "python",
   "pygments_lexer": "ipython3",
   "version": "3.11.11"
  }
 },
 "nbformat": 4,
 "nbformat_minor": 5
}
